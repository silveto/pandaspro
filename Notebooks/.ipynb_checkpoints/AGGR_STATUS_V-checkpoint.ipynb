{
 "cells": [
  {
   "cell_type": "code",
   "execution_count": 2,
   "metadata": {
    "collapsed": true
   },
   "outputs": [],
   "source": [
    "import pandas as pd\n",
    "import numpy as np\n",
    "df = pd.read_table('./../data/AGGR-STATUS-V/AGGR-STATUS-V_NASKNX07A.txt', engine='python', sep='\\r\\t', header=None)"
   ]
  },
  {
   "cell_type": "code",
   "execution_count": 3,
   "metadata": {},
   "outputs": [
    {
     "data": {
      "text/plain": [
       "array([  2, 113, 224, 341])"
      ]
     },
     "execution_count": 3,
     "metadata": {},
     "output_type": "execute_result"
    }
   ],
   "source": [
    "# Get Row Index for Starting Rows\n",
    "header_list = df[df[0].str.contains('Options')].index.values\n",
    "header_list"
   ]
  },
  {
   "cell_type": "code",
   "execution_count": 4,
   "metadata": {},
   "outputs": [
    {
     "data": {
      "text/plain": [
       "array([  0,   1,  69,  70,  72,  73,  75,  76,  78,  79,  81,  82,  84,\n",
       "        85,  87,  88,  90,  91,  93,  94,  96,  97,  99, 100, 102, 103,\n",
       "       105, 106, 108, 109, 111, 112, 180, 181, 183, 184, 186, 187, 189,\n",
       "       190, 192, 193, 195, 196, 198, 199, 201, 202, 204, 205, 207, 208,\n",
       "       210, 211, 213, 214, 216, 217, 219, 220, 222, 223, 291, 292, 294,\n",
       "       295, 297, 298, 300, 301, 303, 304, 306, 307, 309, 310, 312, 313,\n",
       "       315, 316, 318, 319, 321, 322, 324, 325, 327, 328, 330, 331, 333,\n",
       "       334, 336, 337, 339, 340, 408, 409, 411, 412, 414, 415, 417, 418,\n",
       "       420, 421, 423, 424, 426, 427, 429, 430, 432, 433, 435, 436])"
      ]
     },
     "execution_count": 4,
     "metadata": {},
     "output_type": "execute_result"
    }
   ],
   "source": [
    "# Get Row Index for Ending Rows\n",
    "end_list = df[df[0].str.contains('^#')].index.values\n",
    "end_list"
   ]
  },
  {
   "cell_type": "code",
   "execution_count": 5,
   "metadata": {},
   "outputs": [
    {
     "name": "stdout",
     "output_type": "stream",
     "text": [
      "2 ends 69\n",
      "113 ends 180\n",
      "224 ends 291\n",
      "341 ends 408\n",
      "[[2, 69], [113, 180], [224, 291], [341, 408]]\n"
     ]
    }
   ],
   "source": [
    "idx_list = []\n",
    "for x in header_list:\n",
    "    y = end_list[np.where(x<end_list)]\n",
    "    if len(y)>0:        \n",
    "        print(str(x) + ' ends ' + str(y[0]))\n",
    "        idx_list.append([x, y[0]]) # We are using the first number in array y e.g. y[0]\n",
    "    else:\n",
    "        print(str(x)+' until end of file') \n",
    "        idx_list.append([x,]) # End of file has no y[0]\n",
    "\n",
    "print idx_list\n",
    "# df[idx_list[0][0]:idx_list[0][1]] \n",
    "# [0][0] is the first element in the first list idx_list e.g. 5\n",
    "# [0][1] is the second element in the first list idx_list e.g. 83\n",
    "\n",
    "# df[idx_list[1][0]:idx_list[1][1]]\n",
    "# [0][0] is the first element in the first list idx_list e.g. 88\n",
    "# [0][1] is the second element in the first list idx_list e.g. 166"
   ]
  },
  {
   "cell_type": "code",
   "execution_count": 6,
   "metadata": {},
   "outputs": [
    {
     "data": {
      "text/plain": [
       "3     [aggr0, online, raid0,, aggr, root,, diskroot,...\n",
       "4           [64-bit, raidsize=8,, raid_lost_write=off,]\n",
       "5     [rlw_off, ignore_inconsistent=off,, snapmirror...\n",
       "6              [resyncsnaptime=60,, fs_size_fixed=off,]\n",
       "7     [snapshot_autodelete=on,, lost_write_protect=on,]\n",
       "8                  [no_delete_log=off,, ha_policy=cfo,]\n",
       "9     [hybrid_enabled=off,, percent_snapshot_space=0%,]\n",
       "10               [free_space_realloc=off,, raid_cv=on,]\n",
       "11                                 [thorough_scrub=off]\n",
       "12                                     [Volumes:, vol0]\n",
       "13      [Plex, /aggr0/plex0:, online,, normal,, active]\n",
       "14    [RAID, group, /aggr0/plex0/rg0:, normal,, bloc...\n",
       "15    [aggr01_nsas, online, raid0,, aggr, nosnap=off...\n",
       "16    [64-bit, raid_lost_write=off,, ignore_inconsis...\n",
       "17     [rlw_off, snapmirrored=off,, resyncsnaptime=60,]\n",
       "18        [fs_size_fixed=off,, snapshot_autodelete=on,]\n",
       "19         [lost_write_protect=on,, no_delete_log=off,]\n",
       "20                [ha_policy=cfo,, hybrid_enabled=off,]\n",
       "21                         [percent_snapshot_space=0%,]\n",
       "22               [free_space_realloc=off,, raid_cv=on,]\n",
       "23                                 [thorough_scrub=off]\n",
       "24    [Volumes:, vf_NAS_AURDIVIC_rootvol,, wd_aurdiv...\n",
       "25    [wd_aurdivic_branch_vol01,, vf_NAS_AURDI02_roo...\n",
       "26            [A3DOCKD0052_USER,, A3DOCKD0052_PROFILE,]\n",
       "27        [A3DOCKD0052_SHARED,, vf_NAS_AURINT_rootvol,]\n",
       "28    [vf_NAS_AURIACT_rootvol,, vf_NAS_AURITAS_rootv...\n",
       "29    [wd_auriact_branch_vol01,, wd_auritas_branch_v...\n",
       "30    [wd_aurint_branch_vol01,, vf_NAS_AURIQLD_rootv...\n",
       "31    [wd_auriqld_hobo_vol01,, wd_auriqld_branch_vol...\n",
       "32    [wd_auriqld_branch_vol02,, wd_auriqld_branch_v...\n",
       "                            ...                        \n",
       "40    [wd_aurisa_branch_vol01,, wd_aurisa_branch_vol...\n",
       "41     [wd_aurisa_branch_vol03,, wd_aurisa_hobo_vol01,]\n",
       "42     [wd_auriQLD_hobo_vol01,, wd_auriQLD_hobo_vol02,]\n",
       "43     [wd_aurinsw_hobo_vol01,, wd_aurinsw_hobo_vol02,]\n",
       "44     [wd_aurinsw_hobo_vol03,, wd_aurinsw_hobo_vol04,]\n",
       "45     [wd_aurinsw_hobo_vol05,, wd_aurinsw_hobo_vol06,]\n",
       "46    [wd_aurinsw_hobo_vol07,, wd_auriact_branch_vol...\n",
       "47    [vf_NAS_NSW_HOBO_rootvol,, vf_NAS_QLD_HOBO_roo...\n",
       "48    [vf_NAS_WA_HOBO_rootvol,, vf_NAS_SA_HOBO_rootv...\n",
       "49    [wd_aurinsw_branch_vol01,, wd_aurinsw_branch_v...\n",
       "50    [wd_aurinsw_branch_vol03,, wd_aurinsw_branch_v...\n",
       "51    [wd_aurinsw_branch_vol05,, wd_aurinsw_branch_v...\n",
       "52    [wd_aurinsw_branch_vol07,, wd_aurinsw_branch_v...\n",
       "53    [wd_aurinsw_branch_vol09,, wd_aurinsw_branch_v...\n",
       "54    [wd_aurinsw_branch_vol11,, wd_aurinsw_branch_v...\n",
       "55    [wd_aurinsw_branch_vol13,, wd_aurinsw_branch_v...\n",
       "56              [vf_NAS_AURINSW_rootvol,, sv_test_vol,]\n",
       "57    [wd_auriwa_branch_vol06,, vol_SIF_Dev_01,, vol...\n",
       "58               [vol_trace_test,, vol_trace_test_qld,]\n",
       "59       [Siebel_App_Datavol01,, Siebel_App_Datavol02,]\n",
       "60       [Siebel_App_Datavol03,, Siebel_App_Datavol04,]\n",
       "61       [vf_test_rootvol,, TestVol,, BBC_restore_temp]\n",
       "62    [Plex, /aggr01_nsas/plex0:, online,, normal,, ...\n",
       "63    [RAID, group, /aggr01_nsas/plex0/rg0:, normal,...\n",
       "64    [RAID, group, /aggr01_nsas/plex0/rg1:, normal,...\n",
       "65    [RAID, group, /aggr01_nsas/plex0/rg2:, normal,...\n",
       "66    [RAID, group, /aggr01_nsas/plex0/rg3:, normal,...\n",
       "67    [RAID, group, /aggr01_nsas/plex0/rg4:, normal,...\n",
       "68    [RAID, group, /aggr01_nsas/plex0/rg5:, normal,...\n",
       "69    [#, Sun, Jul, 2, 00:14:30, 2017, HA, Group, No...\n",
       "Name: 0, Length: 67, dtype: object"
      ]
     },
     "execution_count": 6,
     "metadata": {},
     "output_type": "execute_result"
    }
   ],
   "source": [
    "df.loc[2:69][0][1:].apply(lambda x: str.split(x))"
   ]
  }
 ],
 "metadata": {
  "kernelspec": {
   "display_name": "Python 2",
   "language": "python",
   "name": "python2"
  },
  "language_info": {
   "codemirror_mode": {
    "name": "ipython",
    "version": 2
   },
   "file_extension": ".py",
   "mimetype": "text/x-python",
   "name": "python",
   "nbconvert_exporter": "python",
   "pygments_lexer": "ipython2",
   "version": "2.7.13"
  }
 },
 "nbformat": 4,
 "nbformat_minor": 2
}
