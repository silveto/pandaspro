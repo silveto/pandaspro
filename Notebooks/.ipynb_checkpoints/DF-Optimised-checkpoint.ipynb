{
 "cells": [
  {
   "cell_type": "markdown",
   "metadata": {},
   "source": [
    "### 1. Load libraties"
   ]
  },
  {
   "cell_type": "code",
   "execution_count": 2,
   "metadata": {
    "collapsed": true
   },
   "outputs": [],
   "source": [
    "import pandas as pd\n",
    "import numpy as np\n",
    "import re # Regular expression library\n",
    "\n",
    "# StringIO - to read dataframe from string\n",
    "import sys\n",
    "if sys.version_info[0] < 3: \n",
    "    from StringIO import StringIO\n",
    "else:\n",
    "    from io import StringIO"
   ]
  },
  {
   "cell_type": "markdown",
   "metadata": {},
   "source": [
    "### 2. Split file data into separate logs"
   ]
  },
  {
   "cell_type": "code",
   "execution_count": 12,
   "metadata": {
    "collapsed": false
   },
   "outputs": [],
   "source": [
    "file_name = \"../data/DF/DF_NASKNX07A.txt\"\n",
    "with open(file_name, 'r') as open_file:\n",
    "    txt = open_file.read()\n",
    "    separate_logs = txt.split('\\n\\n')"
   ]
  },
  {
   "cell_type": "markdown",
   "metadata": {},
   "source": [
    "### 3. Get separate dataframes: log info and data"
   ]
  },
  {
   "cell_type": "code",
   "execution_count": 13,
   "metadata": {
    "collapsed": false
   },
   "outputs": [
    {
     "name": "stdout",
     "output_type": "stream",
     "text": [
      "('Sun Jul  2 00:34:30 2017', 'WEEKLY_LOG', 'NASKNX07A', '451416000026')\n",
      "('Sun Jun 25 00:33:39 2017', 'WEEKLY_LOG', 'NASKNX07A', '451416000026')\n",
      "('Sun Jun 18 00:22:49 2017', 'WEEKLY_LOG', 'NASKNX07A', '451416000026')\n",
      "('Sun Jun 11 00:22:06 2017', 'WEEKLY_LOG', 'NASKNX07A', '451416000026')\n"
     ]
    }
   ],
   "source": [
    "log_dfs = []\n",
    "for log in separate_logs:\n",
    "    if not \"ERROR\" in log and log != '':\n",
    "        log = log.strip()\n",
    "        log_info = re.match( r'# (.* \\d{4}).*\\((.*)\\) INFO\\n# hostname: (.*) serialno: (\\d+)\\n', log, re.M).groups()\n",
    "        print(log_info)\n",
    "        log_data = pd.read_table(StringIO(log), skiprows=3, header=None, sep=r\"\\s+\",\n",
    "                     names=['Filesystem','kbytes','used','avail','capacity','Mounted on'])\n",
    "        log_data['date'] = log_info[0]\n",
    "        log_data['date'] = pd.to_datetime(log_data['date'], format='%a %b %d %H:%M:%S %Y')\n",
    "        log_data['ASUP_Type'] = log_info[1]\n",
    "        log_data['hostname'] = log_info[2]\n",
    "        log_data['serial_no'] = log_info[3]\n",
    "        log_data = log_data[['date', 'ASUP_Type','hostname','serial_no','Filesystem','kbytes','used','avail','capacity','Mounted on']]\n",
    "        log_dfs.append(log_data)"
   ]
  },
  {
   "cell_type": "markdown",
   "metadata": {},
   "source": [
    "### 4. Concatenate all dataframes and see result"
   ]
  },
  {
   "cell_type": "code",
   "execution_count": 14,
   "metadata": {
    "collapsed": true
   },
   "outputs": [],
   "source": [
    "df = pd.concat(log_dfs, axis=0).reset_index(drop=True)"
   ]
  },
  {
   "cell_type": "code",
   "execution_count": 15,
   "metadata": {
    "collapsed": false
   },
   "outputs": [
    {
     "data": {
      "text/plain": [
       "(630, 10)"
      ]
     },
     "execution_count": 15,
     "metadata": {},
     "output_type": "execute_result"
    }
   ],
   "source": [
    "df.shape"
   ]
  },
  {
   "cell_type": "code",
   "execution_count": 18,
   "metadata": {
    "collapsed": false
   },
   "outputs": [
    {
     "data": {
      "text/html": [
       "<div>\n",
       "<table border=\"1\" class=\"dataframe\">\n",
       "  <thead>\n",
       "    <tr style=\"text-align: right;\">\n",
       "      <th></th>\n",
       "      <th>date</th>\n",
       "      <th>ASUP_Type</th>\n",
       "      <th>hostname</th>\n",
       "      <th>serial_no</th>\n",
       "      <th>Filesystem</th>\n",
       "      <th>kbytes</th>\n",
       "      <th>used</th>\n",
       "      <th>avail</th>\n",
       "      <th>capacity</th>\n",
       "      <th>Mounted on</th>\n",
       "    </tr>\n",
       "  </thead>\n",
       "  <tbody>\n",
       "    <tr>\n",
       "      <th>0</th>\n",
       "      <td>2017-07-02 00:34:30</td>\n",
       "      <td>WEEKLY_LOG</td>\n",
       "      <td>NASKNX07A</td>\n",
       "      <td>451416000026</td>\n",
       "      <td>/vol/vol0/</td>\n",
       "      <td>274596860</td>\n",
       "      <td>9436936</td>\n",
       "      <td>265159924</td>\n",
       "      <td>3%</td>\n",
       "      <td>/vol/vol0/</td>\n",
       "    </tr>\n",
       "    <tr>\n",
       "      <th>1</th>\n",
       "      <td>2017-07-02 00:34:30</td>\n",
       "      <td>WEEKLY_LOG</td>\n",
       "      <td>NASKNX07A</td>\n",
       "      <td>451416000026</td>\n",
       "      <td>/vol/vol0/.snapshot</td>\n",
       "      <td>14452464</td>\n",
       "      <td>2674616</td>\n",
       "      <td>11777848</td>\n",
       "      <td>19%</td>\n",
       "      <td>/vol/vol0/.snapshot</td>\n",
       "    </tr>\n",
       "    <tr>\n",
       "      <th>2</th>\n",
       "      <td>2017-07-02 00:34:30</td>\n",
       "      <td>WEEKLY_LOG</td>\n",
       "      <td>NASKNX07A</td>\n",
       "      <td>451416000026</td>\n",
       "      <td>/vol/vf_NAS_AURDIVIC_rootvol/</td>\n",
       "      <td>1992296</td>\n",
       "      <td>13404</td>\n",
       "      <td>1978892</td>\n",
       "      <td>1%</td>\n",
       "      <td>/vol/vf_NAS_AURDIVIC_rootvol/</td>\n",
       "    </tr>\n",
       "    <tr>\n",
       "      <th>3</th>\n",
       "      <td>2017-07-02 00:34:30</td>\n",
       "      <td>WEEKLY_LOG</td>\n",
       "      <td>NASKNX07A</td>\n",
       "      <td>451416000026</td>\n",
       "      <td>/vol/vf_NAS_AURDIVIC_rootvol/.snapshot</td>\n",
       "      <td>104856</td>\n",
       "      <td>7000</td>\n",
       "      <td>97856</td>\n",
       "      <td>7%</td>\n",
       "      <td>/vol/vf_NAS_AURDIVIC_rootvol/.snapshot</td>\n",
       "    </tr>\n",
       "    <tr>\n",
       "      <th>4</th>\n",
       "      <td>2017-07-02 00:34:30</td>\n",
       "      <td>WEEKLY_LOG</td>\n",
       "      <td>NASKNX07A</td>\n",
       "      <td>451416000026</td>\n",
       "      <td>/vol/wd_aurdivic_hobo_vol01/</td>\n",
       "      <td>2040109468</td>\n",
       "      <td>2405664</td>\n",
       "      <td>2037703804</td>\n",
       "      <td>0%</td>\n",
       "      <td>/vol/wd_aurdivic_hobo_vol01/</td>\n",
       "    </tr>\n",
       "  </tbody>\n",
       "</table>\n",
       "</div>"
      ],
      "text/plain": [
       "                 date   ASUP_Type   hostname     serial_no  \\\n",
       "0 2017-07-02 00:34:30  WEEKLY_LOG  NASKNX07A  451416000026   \n",
       "1 2017-07-02 00:34:30  WEEKLY_LOG  NASKNX07A  451416000026   \n",
       "2 2017-07-02 00:34:30  WEEKLY_LOG  NASKNX07A  451416000026   \n",
       "3 2017-07-02 00:34:30  WEEKLY_LOG  NASKNX07A  451416000026   \n",
       "4 2017-07-02 00:34:30  WEEKLY_LOG  NASKNX07A  451416000026   \n",
       "\n",
       "                               Filesystem      kbytes     used       avail  \\\n",
       "0                              /vol/vol0/   274596860  9436936   265159924   \n",
       "1                     /vol/vol0/.snapshot    14452464  2674616    11777848   \n",
       "2           /vol/vf_NAS_AURDIVIC_rootvol/     1992296    13404     1978892   \n",
       "3  /vol/vf_NAS_AURDIVIC_rootvol/.snapshot      104856     7000       97856   \n",
       "4            /vol/wd_aurdivic_hobo_vol01/  2040109468  2405664  2037703804   \n",
       "\n",
       "  capacity                              Mounted on  \n",
       "0       3%                              /vol/vol0/  \n",
       "1      19%                     /vol/vol0/.snapshot  \n",
       "2       1%           /vol/vf_NAS_AURDIVIC_rootvol/  \n",
       "3       7%  /vol/vf_NAS_AURDIVIC_rootvol/.snapshot  \n",
       "4       0%            /vol/wd_aurdivic_hobo_vol01/  "
      ]
     },
     "execution_count": 18,
     "metadata": {},
     "output_type": "execute_result"
    }
   ],
   "source": [
    "df.head()"
   ]
  },
  {
   "cell_type": "code",
   "execution_count": null,
   "metadata": {
    "collapsed": true
   },
   "outputs": [],
   "source": []
  }
 ],
 "metadata": {
  "kernelspec": {
   "display_name": "Python [Root]",
   "language": "python",
   "name": "Python [Root]"
  },
  "language_info": {
   "codemirror_mode": {
    "name": "ipython",
    "version": 3
   },
   "file_extension": ".py",
   "mimetype": "text/x-python",
   "name": "python",
   "nbconvert_exporter": "python",
   "pygments_lexer": "ipython3",
   "version": "3.5.2"
  }
 },
 "nbformat": 4,
 "nbformat_minor": 2
}
